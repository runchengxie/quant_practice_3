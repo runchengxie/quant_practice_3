{
 "cells": [
  {
   "cell_type": "markdown",
   "metadata": {},
   "source": [
    "Introduction: Short-term asset return is a challenging quantity to predict. Efficient markets produce near-Normal daily returns with no significant correlation between $r_t$ , $r_{t−1}$. This exercise is a limited exercise in supervised learning. You are expected to explore multiple features or may use a set of features from Table 1 without an expectation of predictive powers. Original and final selected features should be sufficiently large.\n",
    "\n",
    "# Objective\n",
    "Your objective is to produce a model to predict positive moves (up trend) using machine learning models as specified in the below section. Your proposed solution should be comprehensive with the detailed feature engineering and model architecture.\n",
    "\n",
    "- Choose one ticker of your interest from the index, equity, ETF, crypto token, or commodity.\n",
    "- Predict trend only, for a short-term return (example: daily, 6 hours). Limit prediction to binomial classification: the dependent variable is best labeled [0, 1]. Avoid using [-1, 1] as class labels.\n",
    "- Analysis should be comprehensive with detailed feature engineering, data pre-processing, model building, and evaluation.\n",
    "\n",
    "Devise your own approach on how to categorise extremely small near-zero returns (drop from training sample, group with positive/negative). The threshold will strongly depend on your ticker. Example: small positive returns below 0.25% can be labelled as negative.\n",
    "\n",
    "**Table 1: Features List**\n",
    "\n",
    "| Feature        | Formula                                                                 | Description               |\n",
    "|----------------|-------------------------------------------------------------------------|---------------------------|\n",
    "| O-C, H-L       | Open - Close, High - Low                                                | intraday price range      |\n",
    "| Sign           | sign [rt = ln \\(\\frac{P_t}{P_{t-1}}\\)]                                  | sign of return or momentum|\n",
    "| Past Returns   | \\(r_{t-1}, r_{t-2}, \\ldots\\)                                            | lagged returns            |\n",
    "| Momentum       | \\(P_t - P_{t-k}\\)                                                       | price change over k period|\n",
    "| Moving Average | \\(SMA_i = \\frac{1}{n}\\sum_{i=0}^{n-1} P_{t-i}\\)                         | simple moving average     |\n",
    "| Exponential MA | \\(EMA_i = EMA_{i-1} + \\alpha (P_t - EMA_{i-1})\\), \\(\\alpha = \\frac{2}{(N_{obs} + 1)}\\) | recursive, \\(\\alpha = \\frac{2}{(N_{obs} + 1)}\\) |\n",
    "\n",
    "Number of features to include is a design choice. There is no one recommended set of features for all assets. Length of dataset is another design choice. If predicting short-term return sign (for daily move), then training and testing over up to 5-year period should be sufficient. Making sense of instructions below is part of the task.\n",
    "\n",
    "# Questions\n",
    "\n",
    "1. What is the cost function of Logistic Regression? Explain in Detail.\n",
    "2. What are voting classifiers in ensemble learning?\n",
    "3. Follow the 7-steps to model building for your selected ticker,\n",
    "\n",
    "    - produce a model to predict positive moves (up trend) using Support Vector Machine (SVM) model.\n",
    "    - tune hyperparameters for the estimator and present the best model.\n",
    "    - investigate the prediction quality using area under ROC curve, confusion matrix and classification report.\n",
    "\n",
    "Note: Choice of kernels and number of hyperparameters to be optimized for the best model are design choices."
   ]
  },
  {
   "cell_type": "markdown",
   "metadata": {},
   "source": []
  }
 ],
 "metadata": {
  "language_info": {
   "name": "python"
  }
 },
 "nbformat": 4,
 "nbformat_minor": 2
}
